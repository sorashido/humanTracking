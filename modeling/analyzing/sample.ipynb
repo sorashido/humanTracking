{
 "cells": [
  {
   "cell_type": "code",
   "execution_count": 1,
   "metadata": {},
   "outputs": [],
   "source": [
    "import pandas as pd\n",
    "import numpy as np\n",
    "import matplotlib.pyplot as plt\n",
    "import math\n",
    "import seaborn as sns\n",
    "\n",
    "from scipy.spatial.distance import squareform, pdist\n",
    "\n",
    "sns.set(style='whitegrid', context='notebook', palette='Set2')"
   ]
  },
  {
   "cell_type": "code",
   "execution_count": 74,
   "metadata": {},
   "outputs": [],
   "source": [
    "# read CSV\n",
    "df_data  = pd.read_csv('../../data/sample.csv')\n",
    "df_data = df_data[df_data.frame < 1000]\n",
    "df_data = df_data.drop(columns=['wy'])\n",
    "df_data = df_data.sort_values(by=['id', 'frame'])\n",
    "df_data['new_frame'] = df_data['frame']/20\n",
    "df_data['new_frame'] = df_data['new_frame'].astype(np.int64)"
   ]
  },
  {
   "cell_type": "code",
   "execution_count": 89,
   "metadata": {},
   "outputs": [],
   "source": [
    "df_data = df_data.drop_duplicates(subset=['wx', 'wz', 'frame'])\n",
    "df_data = df_data.groupby(['id', 'new_frame']).mean()\n",
    "df_data = df_data.reset_index()"
   ]
  },
  {
   "cell_type": "code",
   "execution_count": 90,
   "metadata": {},
   "outputs": [],
   "source": [
    "df_velocity = pd.DataFrame()\n",
    "for i in range(max(df_data['id'])):\n",
    "    person = df_data[df_data.id == i]\n",
    "    person_diff = person.diff().fillna(0.)\n",
    "    person_diff['dist'] = np.sqrt(person_diff.wx**2 + person_diff.wz**2)\n",
    "    person_diff['vel'] = person_diff.dist / (person_diff.frame / 30)\n",
    "    df_velocity = df_velocity.append(person_diff)"
   ]
  },
  {
   "cell_type": "code",
   "execution_count": 91,
   "metadata": {},
   "outputs": [],
   "source": [
    "df_data['vel'] = df_velocity['vel']\n",
    "df_data['dist'] = df_velocity['dist']"
   ]
  },
  {
   "cell_type": "code",
   "execution_count": 92,
   "metadata": {},
   "outputs": [
    {
     "name": "stderr",
     "output_type": "stream",
     "text": [
      "/Users/tela/.anyenv/envs/pyenv/versions/3.6.4/lib/python3.6/site-packages/matplotlib/axes/_axes.py:6462: UserWarning: The 'normed' kwarg is deprecated, and has been replaced by the 'density' kwarg.\n",
      "  warnings.warn(\"The 'normed' kwarg is deprecated, and has been \"\n"
     ]
    },
    {
     "data": {
      "text/plain": [
       "<matplotlib.axes._subplots.AxesSubplot at 0x114beefd0>"
      ]
     },
     "execution_count": 92,
     "metadata": {},
     "output_type": "execute_result"
    },
    {
     "data": {
      "image/png": "[encoded data removed]",
      "text/plain": [
       "<Figure size 432x288 with 1 Axes>"
      ]
     },
     "metadata": {},
     "output_type": "display_data"
    }
   ],
   "source": [
    "df_dataset = df_data.dropna()\n",
    "sns.distplot(df_dataset['vel'])"
   ]
  },
  {
   "cell_type": "code",
   "execution_count": 297,
   "metadata": {},
   "outputs": [],
   "source": [
    "df_dataset = df_dataset.reset_index()"
   ]
  },
  {
   "cell_type": "code",
   "execution_count": 298,
   "metadata": {},
   "outputs": [],
   "source": [
    "df_minD = pd.DataFrame()\n",
    "for i in df_dataset.new_frame.unique():\n",
    "    zero_data = df_dataset[df_dataset['new_frame']==i][['id', 'wx', 'wz']]\n",
    "    pd_dist = pd.DataFrame(squareform(pdist(zero_data.iloc[:, 1:])), columns=zero_data.id.unique(), index=zero_data.id.unique())\n",
    "    pd_dist[pd_dist > .01].min()\n",
    "    df_minD = df_minD.append(pd.DataFrame(pd_dist[pd_dist > .01].min()))\n",
    "\n",
    "df_dataset['minD'] = df_minD.reset_index()[0]"
   ]
  },
  {
   "cell_type": "code",
   "execution_count": 300,
   "metadata": {},
   "outputs": [
    {
     "data": {
      "text/html": [
       "<div>\n",
       "<style scoped>\n",
       "    .dataframe tbody tr th:only-of-type {\n",
       "        vertical-align: middle;\n",
       "    }\n",
       "\n",
       "    .dataframe tbody tr th {\n",
       "        vertical-align: top;\n",
       "    }\n",
       "\n",
       "    .dataframe thead th {\n",
       "        text-align: right;\n",
       "    }\n",
       "</style>\n",
       "<table border=\"1\" class=\"dataframe\">\n",
       "  <thead>\n",
       "    <tr style=\"text-align: right;\">\n",
       "      <th></th>\n",
       "      <th>index</th>\n",
       "      <th>id</th>\n",
       "      <th>new_frame</th>\n",
       "      <th>frame</th>\n",
       "      <th>wx</th>\n",
       "      <th>wz</th>\n",
       "      <th>vel</th>\n",
       "      <th>dist</th>\n",
       "      <th>minD</th>\n",
       "    </tr>\n",
       "  </thead>\n",
       "  <tbody>\n",
       "    <tr>\n",
       "      <th>0</th>\n",
       "      <td>1</td>\n",
       "      <td>0</td>\n",
       "      <td>1</td>\n",
       "      <td>26.250000</td>\n",
       "      <td>-85.809775</td>\n",
       "      <td>660.082000</td>\n",
       "      <td>15.618800</td>\n",
       "      <td>8.356058</td>\n",
       "      <td>NaN</td>\n",
       "    </tr>\n",
       "    <tr>\n",
       "      <th>1</th>\n",
       "      <td>2</td>\n",
       "      <td>0</td>\n",
       "      <td>2</td>\n",
       "      <td>49.833333</td>\n",
       "      <td>-62.801800</td>\n",
       "      <td>682.939000</td>\n",
       "      <td>41.255759</td>\n",
       "      <td>32.431611</td>\n",
       "      <td>NaN</td>\n",
       "    </tr>\n",
       "    <tr>\n",
       "      <th>2</th>\n",
       "      <td>3</td>\n",
       "      <td>0</td>\n",
       "      <td>3</td>\n",
       "      <td>67.142857</td>\n",
       "      <td>-74.171171</td>\n",
       "      <td>665.800143</td>\n",
       "      <td>35.645760</td>\n",
       "      <td>20.567037</td>\n",
       "      <td>2653.531611</td>\n",
       "    </tr>\n",
       "    <tr>\n",
       "      <th>3</th>\n",
       "      <td>4</td>\n",
       "      <td>0</td>\n",
       "      <td>4</td>\n",
       "      <td>90.230769</td>\n",
       "      <td>-217.065846</td>\n",
       "      <td>489.702846</td>\n",
       "      <td>294.673615</td>\n",
       "      <td>226.779951</td>\n",
       "      <td>2653.531611</td>\n",
       "    </tr>\n",
       "    <tr>\n",
       "      <th>4</th>\n",
       "      <td>5</td>\n",
       "      <td>0</td>\n",
       "      <td>5</td>\n",
       "      <td>103.000000</td>\n",
       "      <td>-257.003714</td>\n",
       "      <td>370.991429</td>\n",
       "      <td>294.260843</td>\n",
       "      <td>125.249487</td>\n",
       "      <td>2503.698304</td>\n",
       "    </tr>\n",
       "  </tbody>\n",
       "</table>\n",
       "</div>"
      ],
      "text/plain": [
       "   index  id  new_frame       frame          wx          wz         vel  \\\n",
       "0      1   0          1   26.250000  -85.809775  660.082000   15.618800   \n",
       "1      2   0          2   49.833333  -62.801800  682.939000   41.255759   \n",
       "2      3   0          3   67.142857  -74.171171  665.800143   35.645760   \n",
       "3      4   0          4   90.230769 -217.065846  489.702846  294.673615   \n",
       "4      5   0          5  103.000000 -257.003714  370.991429  294.260843   \n",
       "\n",
       "         dist         minD  \n",
       "0    8.356058          NaN  \n",
       "1   32.431611          NaN  \n",
       "2   20.567037  2653.531611  \n",
       "3  226.779951  2653.531611  \n",
       "4  125.249487  2503.698304  "
      ]
     },
     "execution_count": 300,
     "metadata": {},
     "output_type": "execute_result"
    }
   ],
   "source": [
    "df_dataset.head()"
   ]
  },
  {
   "cell_type": "code",
   "execution_count": null,
   "metadata": {},
   "outputs": [],
   "source": []
  }
 ],
 "metadata": {
  "kernelspec": {
   "display_name": "Python 3",
   "language": "python",
   "name": "python3"
  },
  "language_info": {
   "codemirror_mode": {
    "name": "ipython",
    "version": 3
   },
   "file_extension": ".py",
   "mimetype": "text/x-python",
   "name": "python",
   "nbconvert_exporter": "python",
   "pygments_lexer": "ipython3",
   "version": "3.6.4"
  }
 },
 "nbformat": 4,
 "nbformat_minor": 2
}
