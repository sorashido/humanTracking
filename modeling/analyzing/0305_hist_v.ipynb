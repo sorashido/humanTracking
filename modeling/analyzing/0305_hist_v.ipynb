{
 "cells": [
  {
   "cell_type": "code",
   "execution_count": 1,
   "metadata": {
    "collapsed": true
   },
   "outputs": [],
   "source": [
    "import pandas as pd\n",
    "from matplotlib import pyplot\n",
    "from mpl_toolkits.mplot3d import Axes3D"
   ]
  },
  {
   "cell_type": "code",
   "execution_count": 2,
   "metadata": {
    "collapsed": true
   },
   "outputs": [],
   "source": [
    "# read CSV\n",
    "csv_data  = pd.read_csv('../../../data/shibata/nict/sample.csv')"
   ]
  },
  {
   "cell_type": "code",
   "execution_count": 3,
   "metadata": {},
   "outputs": [
    {
     "data": {
      "text/html": [
       "<div>\n",
       "<style scoped>\n",
       "    .dataframe tbody tr th:only-of-type {\n",
       "        vertical-align: middle;\n",
       "    }\n",
       "\n",
       "    .dataframe tbody tr th {\n",
       "        vertical-align: top;\n",
       "    }\n",
       "\n",
       "    .dataframe thead th {\n",
       "        text-align: right;\n",
       "    }\n",
       "</style>\n",
       "<table border=\"1\" class=\"dataframe\">\n",
       "  <thead>\n",
       "    <tr style=\"text-align: right;\">\n",
       "      <th></th>\n",
       "      <th>frame</th>\n",
       "      <th>id</th>\n",
       "      <th>wx</th>\n",
       "      <th>wy</th>\n",
       "      <th>wz</th>\n",
       "    </tr>\n",
       "  </thead>\n",
       "  <tbody>\n",
       "    <tr>\n",
       "      <th>25739580</th>\n",
       "      <td>1895701</td>\n",
       "      <td>282065</td>\n",
       "      <td>-154.848</td>\n",
       "      <td>-596.106</td>\n",
       "      <td>269.236</td>\n",
       "    </tr>\n",
       "    <tr>\n",
       "      <th>25739581</th>\n",
       "      <td>1895722</td>\n",
       "      <td>282066</td>\n",
       "      <td>-198.257</td>\n",
       "      <td>-704.077</td>\n",
       "      <td>319.259</td>\n",
       "    </tr>\n",
       "    <tr>\n",
       "      <th>25739582</th>\n",
       "      <td>1895724</td>\n",
       "      <td>282066</td>\n",
       "      <td>-218.182</td>\n",
       "      <td>-641.345</td>\n",
       "      <td>360.160</td>\n",
       "    </tr>\n",
       "    <tr>\n",
       "      <th>25739583</th>\n",
       "      <td>1895729</td>\n",
       "      <td>282066</td>\n",
       "      <td>-229.691</td>\n",
       "      <td>-637.625</td>\n",
       "      <td>348.923</td>\n",
       "    </tr>\n",
       "    <tr>\n",
       "      <th>25739584</th>\n",
       "      <td>1895734</td>\n",
       "      <td>282066</td>\n",
       "      <td>-228.300</td>\n",
       "      <td>NaN</td>\n",
       "      <td>NaN</td>\n",
       "    </tr>\n",
       "  </tbody>\n",
       "</table>\n",
       "</div>"
      ],
      "text/plain": [
       "            frame      id       wx       wy       wz\n",
       "25739580  1895701  282065 -154.848 -596.106  269.236\n",
       "25739581  1895722  282066 -198.257 -704.077  319.259\n",
       "25739582  1895724  282066 -218.182 -641.345  360.160\n",
       "25739583  1895729  282066 -229.691 -637.625  348.923\n",
       "25739584  1895734  282066 -228.300      NaN      NaN"
      ]
     },
     "execution_count": 3,
     "metadata": {},
     "output_type": "execute_result"
    }
   ],
   "source": [
    "# csv_data = csv_data[csv_data.frame < 6800]\n",
    "# csv_data.head()\n",
    "csv_data.tail()"
   ]
  },
  {
   "cell_type": "code",
   "execution_count": 4,
   "metadata": {
    "collapsed": true
   },
   "outputs": [],
   "source": [
    "import math"
   ]
  },
  {
   "cell_type": "code",
   "execution_count": 5,
   "metadata": {
    "collapsed": true
   },
   "outputs": [],
   "source": [
    "human = []\n",
    "for i in range(1600):\n",
    "    person = csv_data[csv_data.id == i]\n",
    "    first = person.head(1)\n",
    "    end = person.tail(1)\n",
    "    dx = abs(float(first['wx']) - float(end['wx']))\n",
    "    dz = abs(float(first['wz']) - float(end['wz']))\n",
    "    second = abs(float(first['frame']) - float(end['frame']))/30\n",
    "    if second != 0:\n",
    "        v = math.sqrt(dx*dx + dz*dz)/second\n",
    "        human.append(v)"
   ]
  },
  {
   "cell_type": "code",
   "execution_count": 6,
   "metadata": {},
   "outputs": [
    {
     "name": "stderr",
     "output_type": "stream",
     "text": [
      "/home/itolab/virtualenvs/dshiba-env/lib/python3.6/site-packages/matplotlib/figure.py:418: UserWarning: matplotlib is currently using a non-GUI backend, so cannot show the figure\n",
      "  \"matplotlib is currently using a non-GUI backend, \"\n"
     ]
    },
    {
     "data": {
      "image/png": "[encoded data removed]",
      "text/plain": [
       "<matplotlib.figure.Figure at 0x7fe92add17b8>"
      ]
     },
     "metadata": {},
     "output_type": "display_data"
    }
   ],
   "source": [
    "person = list(filter((lambda x: x < 6000), human))\n",
    "person = list(filter((lambda x: x < 6000), human))\n",
    "fig = pyplot.figure()\n",
    "ax = fig.add_subplot(1,1,1)\n",
    "\n",
    "ax.hist(person, bins=100)\n",
    "ax.set_xlabel('v(mm/s)')\n",
    "ax.set_ylabel('freq')\n",
    "fig.show()"
   ]
  },
  {
   "cell_type": "code",
   "execution_count": 7,
   "metadata": {
    "collapsed": true
   },
   "outputs": [],
   "source": [
    "import csv\n",
    "\n",
    "f = open('some.csv', 'w')\n",
    "writer = csv.writer(f, lineterminator='\\n')\n",
    "for word in person:\n",
    "    writer.writerow([word])\n",
    "f.close()"
   ]
  },
  {
   "cell_type": "code",
   "execution_count": 8,
   "metadata": {},
   "outputs": [],
   "source": [
    "# fig = pyplot.figure()\n",
    "# ax = Axes3D(fig)\n",
    "\n",
    "# ax.set_xlabel(\"WX\")\n",
    "# ax.set_ylabel(\"WZ\")\n",
    "# ax.set_zlabel(\"Frame\")\n",
    "\n",
    "# d1 = csv_data['wx']\n",
    "# d2 = csv_data['wz']\n",
    "# d3 = csv_data['frame']\n",
    "# i = csv_data['id']\n",
    "\n",
    "# ax.scatter(d1, d2, d3, c=i, cmap=pyplot.get_cmap(\"tab10\"))\n",
    "# pyplot.show()"
   ]
  }
 ],
 "metadata": {
  "kernelspec": {
   "display_name": "Python 3.6",
   "language": "python",
   "name": "dshiba-env"
  },
  "language_info": {
   "codemirror_mode": {
    "name": "ipython",
    "version": 3
   },
   "file_extension": ".py",
   "mimetype": "text/x-python",
   "name": "python",
   "nbconvert_exporter": "python",
   "pygments_lexer": "ipython3",
   "version": "3.6.4"
  }
 },
 "nbformat": 4,
 "nbformat_minor": 2
}
