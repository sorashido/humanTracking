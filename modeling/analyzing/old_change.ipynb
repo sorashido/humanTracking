{
 "cells": [
  {
   "cell_type": "code",
   "execution_count": 1,
   "metadata": {},
   "outputs": [],
   "source": [
    "import pandas as pd\n",
    "import numpy as np\n",
    "import matplotlib.pyplot as plt\n",
    "import math\n",
    "import seaborn as sns\n",
    "sns.set(style='whitegrid', context='notebook', palette='Set2')"
   ]
  },
  {
   "cell_type": "code",
   "execution_count": 46,
   "metadata": {},
   "outputs": [],
   "source": [
    "# read CSV\n",
    "df_data  = pd.read_csv('../../data/sample.csv')\n",
    "df_data = df_data.drop(columns=['wy'])\n",
    "df_data = df_data.sort_values(by=['id', 'frame'])\n",
    "df_data['new_frame'] = df_data['frame']/20\n",
    "df_data['new_frame'] = df_data['new_frame'].astype(np.int64)"
   ]
  },
  {
   "cell_type": "markdown",
   "metadata": {},
   "source": [
    "2/3[s]を1タイムステップとする"
   ]
  },
  {
   "cell_type": "code",
   "execution_count": 47,
   "metadata": {},
   "outputs": [],
   "source": [
    "df_data = df_data.drop_duplicates(subset=['wx', 'wz', 'frame'])\n",
    "df_data = df_data.groupby(['id', 'new_frame']).mean()\n",
    "df_data = df_data.reset_index()"
   ]
  },
  {
   "cell_type": "markdown",
   "metadata": {},
   "source": [
    "速度を求める"
   ]
  },
  {
   "cell_type": "code",
   "execution_count": 48,
   "metadata": {},
   "outputs": [],
   "source": [
    "df_velocity = pd.DataFrame()\n",
    "for i in range(max(df_data['id'])):\n",
    "    person = df_data[df_data.id == i]\n",
    "    person_diff = person.diff().fillna(0.)\n",
    "    person_diff['dist'] = np.sqrt(person_diff.wx**2 + person_diff.wz**2)\n",
    "    person_diff['vel'] = person_diff.dist / (person_diff.frame / 30)\n",
    "    df_velocity = df_velocity.append(person_diff)"
   ]
  },
  {
   "cell_type": "code",
   "execution_count": 49,
   "metadata": {},
   "outputs": [],
   "source": [
    "df_data['vel'] = df_velocity['vel']\n",
    "df_data['dist'] = df_velocity['dist']"
   ]
  },
  {
   "cell_type": "code",
   "execution_count": 50,
   "metadata": {},
   "outputs": [
    {
     "name": "stderr",
     "output_type": "stream",
     "text": [
      "/Users/tela/.anyenv/envs/pyenv/versions/3.6.4/lib/python3.6/site-packages/matplotlib/axes/_axes.py:6462: UserWarning: The 'normed' kwarg is deprecated, and has been replaced by the 'density' kwarg.\n",
      "  warnings.warn(\"The 'normed' kwarg is deprecated, and has been \"\n"
     ]
    },
    {
     "data": {
      "text/plain": [
       "<matplotlib.axes._subplots.AxesSubplot at 0x112fa2438>"
      ]
     },
     "execution_count": 50,
     "metadata": {},
     "output_type": "execute_result"
    },
    {
     "data": {
      "image/png": "[encoded data removed]",
      "text/plain": [
       "<Figure size 432x288 with 1 Axes>"
      ]
     },
     "metadata": {},
     "output_type": "display_data"
    }
   ],
   "source": [
    "df_dataset = df_data.dropna()\n",
    "sns.distplot(df_dataset['vel'])"
   ]
  },
  {
   "cell_type": "markdown",
   "metadata": {},
   "source": [
    "一番近い障害物(人)の距離を求める"
   ]
  },
  {
   "cell_type": "code",
   "execution_count": 51,
   "metadata": {},
   "outputs": [],
   "source": [
    "df_dataset.to_csv(\"some.csv\")"
   ]
  },
  {
   "cell_type": "markdown",
   "metadata": {},
   "source": [
    "人物ごとの特徴量作成"
   ]
  },
  {
   "cell_type": "markdown",
   "metadata": {},
   "source": [
    "クラスタリング"
   ]
  },
  {
   "cell_type": "markdown",
   "metadata": {},
   "source": [
    "ロジットモデル"
   ]
  },
  {
   "cell_type": "code",
   "execution_count": 52,
   "metadata": {},
   "outputs": [
    {
     "data": {
      "text/html": [
       "<div>\n",
       "<style scoped>\n",
       "    .dataframe tbody tr th:only-of-type {\n",
       "        vertical-align: middle;\n",
       "    }\n",
       "\n",
       "    .dataframe tbody tr th {\n",
       "        vertical-align: top;\n",
       "    }\n",
       "\n",
       "    .dataframe thead th {\n",
       "        text-align: right;\n",
       "    }\n",
       "</style>\n",
       "<table border=\"1\" class=\"dataframe\">\n",
       "  <thead>\n",
       "    <tr style=\"text-align: right;\">\n",
       "      <th></th>\n",
       "      <th>id</th>\n",
       "      <th>new_frame</th>\n",
       "      <th>frame</th>\n",
       "      <th>wx</th>\n",
       "      <th>wz</th>\n",
       "      <th>vel</th>\n",
       "      <th>dist</th>\n",
       "    </tr>\n",
       "  </thead>\n",
       "  <tbody>\n",
       "    <tr>\n",
       "      <th>count</th>\n",
       "      <td>265959.000000</td>\n",
       "      <td>265959.000000</td>\n",
       "      <td>2.659590e+05</td>\n",
       "      <td>265959.000000</td>\n",
       "      <td>265959.000000</td>\n",
       "      <td>265959.000000</td>\n",
       "      <td>265959.000000</td>\n",
       "    </tr>\n",
       "    <tr>\n",
       "      <th>mean</th>\n",
       "      <td>128761.040096</td>\n",
       "      <td>45542.976534</td>\n",
       "      <td>9.108673e+05</td>\n",
       "      <td>1521.573226</td>\n",
       "      <td>7542.585036</td>\n",
       "      <td>1954.865065</td>\n",
       "      <td>824.453942</td>\n",
       "    </tr>\n",
       "    <tr>\n",
       "      <th>std</th>\n",
       "      <td>78105.498758</td>\n",
       "      <td>26345.496143</td>\n",
       "      <td>5.269097e+05</td>\n",
       "      <td>2174.299832</td>\n",
       "      <td>6138.681169</td>\n",
       "      <td>4115.787385</td>\n",
       "      <td>858.340062</td>\n",
       "    </tr>\n",
       "    <tr>\n",
       "      <th>min</th>\n",
       "      <td>0.000000</td>\n",
       "      <td>1.000000</td>\n",
       "      <td>2.625000e+01</td>\n",
       "      <td>-5948.290000</td>\n",
       "      <td>183.629667</td>\n",
       "      <td>0.221536</td>\n",
       "      <td>0.147691</td>\n",
       "    </tr>\n",
       "    <tr>\n",
       "      <th>25%</th>\n",
       "      <td>63181.000000</td>\n",
       "      <td>22954.000000</td>\n",
       "      <td>4.590822e+05</td>\n",
       "      <td>-132.562183</td>\n",
       "      <td>3966.669472</td>\n",
       "      <td>596.036668</td>\n",
       "      <td>323.002489</td>\n",
       "    </tr>\n",
       "    <tr>\n",
       "      <th>50%</th>\n",
       "      <td>117860.000000</td>\n",
       "      <td>44179.000000</td>\n",
       "      <td>8.835895e+05</td>\n",
       "      <td>1279.137130</td>\n",
       "      <td>5271.255000</td>\n",
       "      <td>1100.148607</td>\n",
       "      <td>614.637279</td>\n",
       "    </tr>\n",
       "    <tr>\n",
       "      <th>75%</th>\n",
       "      <td>193521.500000</td>\n",
       "      <td>68362.500000</td>\n",
       "      <td>1.367260e+06</td>\n",
       "      <td>2656.296688</td>\n",
       "      <td>7513.478861</td>\n",
       "      <td>1674.171609</td>\n",
       "      <td>943.048987</td>\n",
       "    </tr>\n",
       "    <tr>\n",
       "      <th>max</th>\n",
       "      <td>282063.000000</td>\n",
       "      <td>94784.000000</td>\n",
       "      <td>1.895684e+06</td>\n",
       "      <td>9661.510000</td>\n",
       "      <td>29374.700000</td>\n",
       "      <td>163442.074154</td>\n",
       "      <td>11214.011942</td>\n",
       "    </tr>\n",
       "  </tbody>\n",
       "</table>\n",
       "</div>"
      ],
      "text/plain": [
       "                  id      new_frame         frame             wx  \\\n",
       "count  265959.000000  265959.000000  2.659590e+05  265959.000000   \n",
       "mean   128761.040096   45542.976534  9.108673e+05    1521.573226   \n",
       "std     78105.498758   26345.496143  5.269097e+05    2174.299832   \n",
       "min         0.000000       1.000000  2.625000e+01   -5948.290000   \n",
       "25%     63181.000000   22954.000000  4.590822e+05    -132.562183   \n",
       "50%    117860.000000   44179.000000  8.835895e+05    1279.137130   \n",
       "75%    193521.500000   68362.500000  1.367260e+06    2656.296688   \n",
       "max    282063.000000   94784.000000  1.895684e+06    9661.510000   \n",
       "\n",
       "                  wz            vel           dist  \n",
       "count  265959.000000  265959.000000  265959.000000  \n",
       "mean     7542.585036    1954.865065     824.453942  \n",
       "std      6138.681169    4115.787385     858.340062  \n",
       "min       183.629667       0.221536       0.147691  \n",
       "25%      3966.669472     596.036668     323.002489  \n",
       "50%      5271.255000    1100.148607     614.637279  \n",
       "75%      7513.478861    1674.171609     943.048987  \n",
       "max     29374.700000  163442.074154   11214.011942  "
      ]
     },
     "execution_count": 52,
     "metadata": {},
     "output_type": "execute_result"
    }
   ],
   "source": [
    "df_dataset.describe()"
   ]
  },
  {
   "cell_type": "code",
   "execution_count": null,
   "metadata": {},
   "outputs": [],
   "source": []
  }
 ],
 "metadata": {
  "kernelspec": {
   "display_name": "Python 3",
   "language": "python",
   "name": "python3"
  },
  "language_info": {
   "codemirror_mode": {
    "name": "ipython",
    "version": 3
   },
   "file_extension": ".py",
   "mimetype": "text/x-python",
   "name": "python",
   "nbconvert_exporter": "python",
   "pygments_lexer": "ipython3",
   "version": "3.6.4"
  }
 },
 "nbformat": 4,
 "nbformat_minor": 2
}
