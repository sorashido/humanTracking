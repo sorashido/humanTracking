{
 "cells": [
  {
   "cell_type": "code",
   "execution_count": 1,
   "metadata": {},
   "outputs": [],
   "source": [
    "import pandas as pd\n",
    "import numpy as np\n",
    "import matplotlib.pyplot as plt\n",
    "import math\n",
    "import seaborn as sns\n",
    "sns.set(style='whitegrid', context='notebook', palette='Set2')"
   ]
  },
  {
   "cell_type": "code",
   "execution_count": 46,
   "metadata": {},
   "outputs": [],
   "source": [
    "# read CSV\n",
    "df_data  = pd.read_csv('../../data/sample.csv')\n",
    "df_data = df_data.drop(columns=['wy'])\n",
    "df_data = df_data.sort_values(by=['id', 'frame'])\n",
    "df_data['new_frame'] = df_data['frame']/20\n",
    "df_data['new_frame'] = df_data['new_frame'].astype(np.int64)"
   ]
  },
  {
   "cell_type": "markdown",
   "metadata": {},
   "source": [
    "2/3[s]を1タイムステップとする"
   ]
  },
  {
   "cell_type": "code",
   "execution_count": 47,
   "metadata": {},
   "outputs": [],
   "source": [
    "df_data = df_data.drop_duplicates(subset=['wx', 'wz', 'frame'])\n",
    "df_data = df_data.groupby(['id', 'new_frame']).mean()\n",
    "df_data = df_data.reset_index()"
   ]
  },
  {
   "cell_type": "markdown",
   "metadata": {},
   "source": [
    "速度を求める"
   ]
  },
  {
   "cell_type": "code",
   "execution_count": 48,
   "metadata": {},
   "outputs": [],
   "source": [
    "df_velocity = pd.DataFrame()\n",
    "for i in range(max(df_data['id'])):\n",
    "    person = df_data[df_data.id == i]\n",
    "    person_diff = person.diff().fillna(0.)\n",
    "    person_diff['dist'] = np.sqrt(person_diff.wx**2 + person_diff.wz**2)\n",
    "    person_diff['vel'] = person_diff.dist / (person_diff.frame / 30)\n",
    "    df_velocity = df_velocity.append(person_diff)"
   ]
  },
  {
   "cell_type": "code",
   "execution_count": 49,
   "metadata": {},
   "outputs": [],
   "source": [
    "df_data['vel'] = df_velocity['vel']\n",
    "df_data['dist'] = df_velocity['dist']"
   ]
  },
  {
   "cell_type": "markdown",
   "metadata": {},
   "source": [
    "一番近い障害物(人)の距離を求める"
   ]
  },
  {
   "cell_type": "code",
   "execution_count": 51,
   "metadata": {},
   "outputs": [],
   "source": [
    "df_dataset = df_dataset.reset_index()"
   ]
  },
  {
   "cell_type": "code",
   "execution_count": null,
   "metadata": {},
   "outputs": [],
   "source": [
    "df_minD = pd.DataFrame()\n",
    "for i in df_dataset.new_frame.unique():\n",
    "    zero_data = df_dataset[df_dataset['new_frame']==i][['id', 'wx', 'wz']]\n",
    "    pd_dist = pd.DataFrame(squareform(pdist(zero_data.iloc[:, 1:])), columns=zero_data.id.unique(), index=zero_data.id.unique())\n",
    "    pd_dist[pd_dist > .01].min()\n",
    "    df_minD = df_minD.append(pd.DataFrame(pd_dist[pd_dist > .01].min()))\n",
    "\n",
    "df_dataset['minD'] = df_minD.reset_index()[0]"
   ]
  },
  {
   "cell_type": "code",
   "execution_count": null,
   "metadata": {},
   "outputs": [],
   "source": [
    "df_dataset.head()"
   ]
  },
  {
   "cell_type": "code",
   "execution_count": null,
   "metadata": {},
   "outputs": [],
   "source": [
    "df_dataset.to_csv(\"some.csv\")"
   ]
  }
 ],
 "metadata": {
  "kernelspec": {
   "display_name": "Python 3",
   "language": "python",
   "name": "python3"
  },
  "language_info": {
   "codemirror_mode": {
    "name": "ipython",
    "version": 3
   },
   "file_extension": ".py",
   "mimetype": "text/x-python",
   "name": "python",
   "nbconvert_exporter": "python",
   "pygments_lexer": "ipython3",
   "version": "3.6.4"
  }
 },
 "nbformat": 4,
 "nbformat_minor": 2
}
