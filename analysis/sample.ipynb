{
 "cells": [
  {
   "cell_type": "code",
   "execution_count": 1,
   "metadata": {},
   "outputs": [],
   "source": [
    "import pandas as pd\n",
    "import numpy as np\n",
    "import matplotlib.pyplot as plt\n",
    "import math\n",
    "import seaborn as sns\n",
    "\n",
    "from scipy.spatial.distance import squareform, pdist\n",
    "\n",
    "sns.set(style='whitegrid', context='notebook', palette='Set2')"
   ]
  },
  {
   "cell_type": "code",
   "execution_count": 10,
   "metadata": {},
   "outputs": [],
   "source": [
    "# read CSV\n",
    "df_data  = pd.read_csv('../../data/some.csv')\n",
    "df_data = df_data.drop(columns=['Unnamed: 0'])"
   ]
  },
  {
   "cell_type": "markdown",
   "metadata": {},
   "source": [
    "## explore dataset"
   ]
  },
  {
   "cell_type": "code",
   "execution_count": 11,
   "metadata": {},
   "outputs": [
    {
     "name": "stderr",
     "output_type": "stream",
     "text": [
      "/Users/tela/.anyenv/envs/pyenv/versions/3.6.4/lib/python3.6/site-packages/ipykernel_launcher.py:14: SettingWithCopyWarning: \n",
      "A value is trying to be set on a copy of a slice from a DataFrame\n",
      "\n",
      "See the caveats in the documentation: http://pandas.pydata.org/pandas-docs/stable/indexing.html#indexing-view-versus-copy\n",
      "  \n",
      "/Users/tela/.anyenv/envs/pyenv/versions/3.6.4/lib/python3.6/site-packages/ipykernel_launcher.py:15: SettingWithCopyWarning: \n",
      "A value is trying to be set on a copy of a slice from a DataFrame\n",
      "\n",
      "See the caveats in the documentation: http://pandas.pydata.org/pandas-docs/stable/indexing.html#indexing-view-versus-copy\n",
      "  from ipykernel import kernelapp as app\n"
     ]
    }
   ],
   "source": [
    "def drop_outlier(df):\n",
    "  for i, col in df.iteritems():\n",
    "    #四分位数\n",
    "    q1 = col.quantile(.25)\n",
    "    q3 = col.quantile(.75)\n",
    "\n",
    "    iqr = q3 - q1 #四分位範囲\n",
    "\n",
    "    #外れ値の基準点\n",
    "    outlier_min = q1 - (iqr) * 1.5\n",
    "    outlier_max = q3 + (iqr) * 1.5\n",
    "\n",
    "    #範囲から外れている値を除く\n",
    "    col[col < outlier_min] = None\n",
    "    col[col > outlier_max] = None\n",
    "\n",
    "drop_outlier(df_data)\n",
    "df_data = df_data.dropna()"
   ]
  },
  {
   "cell_type": "code",
   "execution_count": 12,
   "metadata": {},
   "outputs": [
    {
     "name": "stderr",
     "output_type": "stream",
     "text": [
      "/Users/tela/.anyenv/envs/pyenv/versions/3.6.4/lib/python3.6/site-packages/matplotlib/axes/_axes.py:6462: UserWarning: The 'normed' kwarg is deprecated, and has been replaced by the 'density' kwarg.\n",
      "  warnings.warn(\"The 'normed' kwarg is deprecated, and has been \"\n"
     ]
    },
    {
     "data": {
      "text/plain": [
       "<matplotlib.axes._subplots.AxesSubplot at 0x10e255438>"
      ]
     },
     "execution_count": 12,
     "metadata": {},
     "output_type": "execute_result"
    },
    {
     "data": {
      "image/png": "[encoded data removed]",
      "text/plain": [
       "<Figure size 432x288 with 1 Axes>"
      ]
     },
     "metadata": {},
     "output_type": "display_data"
    }
   ],
   "source": [
    "sns.distplot(df_data['vel'])"
   ]
  },
  {
   "cell_type": "code",
   "execution_count": 13,
   "metadata": {},
   "outputs": [
    {
     "data": {
      "text/html": [
       "<div>\n",
       "<style scoped>\n",
       "    .dataframe tbody tr th:only-of-type {\n",
       "        vertical-align: middle;\n",
       "    }\n",
       "\n",
       "    .dataframe tbody tr th {\n",
       "        vertical-align: top;\n",
       "    }\n",
       "\n",
       "    .dataframe thead th {\n",
       "        text-align: right;\n",
       "    }\n",
       "</style>\n",
       "<table border=\"1\" class=\"dataframe\">\n",
       "  <thead>\n",
       "    <tr style=\"text-align: right;\">\n",
       "      <th></th>\n",
       "      <th>index</th>\n",
       "      <th>id</th>\n",
       "      <th>new_frame</th>\n",
       "      <th>frame</th>\n",
       "      <th>wx</th>\n",
       "      <th>wz</th>\n",
       "      <th>vel</th>\n",
       "      <th>dist</th>\n",
       "      <th>minD</th>\n",
       "    </tr>\n",
       "  </thead>\n",
       "  <tbody>\n",
       "    <tr>\n",
       "      <th>count</th>\n",
       "      <td>176980.000000</td>\n",
       "      <td>176980.000000</td>\n",
       "      <td>176980.000000</td>\n",
       "      <td>1.769800e+05</td>\n",
       "      <td>176980.000000</td>\n",
       "      <td>176980.000000</td>\n",
       "      <td>176980.000000</td>\n",
       "      <td>176980.000000</td>\n",
       "      <td>176980.000000</td>\n",
       "    </tr>\n",
       "    <tr>\n",
       "      <th>mean</th>\n",
       "      <td>126328.073178</td>\n",
       "      <td>121297.749265</td>\n",
       "      <td>43163.148192</td>\n",
       "      <td>8.632711e+05</td>\n",
       "      <td>760.981368</td>\n",
       "      <td>4903.856840</td>\n",
       "      <td>997.997115</td>\n",
       "      <td>562.190898</td>\n",
       "      <td>2365.170367</td>\n",
       "    </tr>\n",
       "    <tr>\n",
       "      <th>std</th>\n",
       "      <td>71767.181843</td>\n",
       "      <td>72278.871414</td>\n",
       "      <td>24512.783590</td>\n",
       "      <td>4.902556e+05</td>\n",
       "      <td>1493.733641</td>\n",
       "      <td>1769.152946</td>\n",
       "      <td>635.925779</td>\n",
       "      <td>366.400317</td>\n",
       "      <td>1284.779963</td>\n",
       "    </tr>\n",
       "    <tr>\n",
       "      <th>min</th>\n",
       "      <td>2.000000</td>\n",
       "      <td>0.000000</td>\n",
       "      <td>3.000000</td>\n",
       "      <td>6.714286e+01</td>\n",
       "      <td>-4052.934000</td>\n",
       "      <td>183.629667</td>\n",
       "      <td>0.221536</td>\n",
       "      <td>0.147691</td>\n",
       "      <td>0.333270</td>\n",
       "    </tr>\n",
       "    <tr>\n",
       "      <th>25%</th>\n",
       "      <td>66363.750000</td>\n",
       "      <td>63050.000000</td>\n",
       "      <td>22899.000000</td>\n",
       "      <td>4.579881e+05</td>\n",
       "      <td>-359.536477</td>\n",
       "      <td>3682.387250</td>\n",
       "      <td>500.914775</td>\n",
       "      <td>270.055579</td>\n",
       "      <td>1447.699384</td>\n",
       "    </tr>\n",
       "    <tr>\n",
       "      <th>50%</th>\n",
       "      <td>120303.500000</td>\n",
       "      <td>107019.000000</td>\n",
       "      <td>40091.500000</td>\n",
       "      <td>8.018395e+05</td>\n",
       "      <td>836.093687</td>\n",
       "      <td>4891.158571</td>\n",
       "      <td>980.957478</td>\n",
       "      <td>531.793913</td>\n",
       "      <td>2232.411230</td>\n",
       "    </tr>\n",
       "    <tr>\n",
       "      <th>75%</th>\n",
       "      <td>187010.250000</td>\n",
       "      <td>178276.000000</td>\n",
       "      <td>63234.000000</td>\n",
       "      <td>1.264691e+06</td>\n",
       "      <td>1904.797750</td>\n",
       "      <td>5971.317125</td>\n",
       "      <td>1348.073534</td>\n",
       "      <td>777.498315</td>\n",
       "      <td>3142.350608</td>\n",
       "    </tr>\n",
       "    <tr>\n",
       "      <th>max</th>\n",
       "      <td>265945.000000</td>\n",
       "      <td>281987.000000</td>\n",
       "      <td>94735.000000</td>\n",
       "      <td>1.894701e+06</td>\n",
       "      <td>6753.295000</td>\n",
       "      <td>12829.950000</td>\n",
       "      <td>3291.268103</td>\n",
       "      <td>1873.025338</td>\n",
       "      <td>7541.664291</td>\n",
       "    </tr>\n",
       "  </tbody>\n",
       "</table>\n",
       "</div>"
      ],
      "text/plain": [
       "               index             id      new_frame         frame  \\\n",
       "count  176980.000000  176980.000000  176980.000000  1.769800e+05   \n",
       "mean   126328.073178  121297.749265   43163.148192  8.632711e+05   \n",
       "std     71767.181843   72278.871414   24512.783590  4.902556e+05   \n",
       "min         2.000000       0.000000       3.000000  6.714286e+01   \n",
       "25%     66363.750000   63050.000000   22899.000000  4.579881e+05   \n",
       "50%    120303.500000  107019.000000   40091.500000  8.018395e+05   \n",
       "75%    187010.250000  178276.000000   63234.000000  1.264691e+06   \n",
       "max    265945.000000  281987.000000   94735.000000  1.894701e+06   \n",
       "\n",
       "                  wx             wz            vel           dist  \\\n",
       "count  176980.000000  176980.000000  176980.000000  176980.000000   \n",
       "mean      760.981368    4903.856840     997.997115     562.190898   \n",
       "std      1493.733641    1769.152946     635.925779     366.400317   \n",
       "min     -4052.934000     183.629667       0.221536       0.147691   \n",
       "25%      -359.536477    3682.387250     500.914775     270.055579   \n",
       "50%       836.093687    4891.158571     980.957478     531.793913   \n",
       "75%      1904.797750    5971.317125    1348.073534     777.498315   \n",
       "max      6753.295000   12829.950000    3291.268103    1873.025338   \n",
       "\n",
       "                minD  \n",
       "count  176980.000000  \n",
       "mean     2365.170367  \n",
       "std      1284.779963  \n",
       "min         0.333270  \n",
       "25%      1447.699384  \n",
       "50%      2232.411230  \n",
       "75%      3142.350608  \n",
       "max      7541.664291  "
      ]
     },
     "execution_count": 13,
     "metadata": {},
     "output_type": "execute_result"
    }
   ],
   "source": [
    "df_data.describe()"
   ]
  },
  {
   "cell_type": "markdown",
   "metadata": {},
   "source": [
    "## people"
   ]
  },
  {
   "cell_type": "code",
   "execution_count": null,
   "metadata": {},
   "outputs": [],
   "source": [
    "people_mean = df_data.groupby('id').mean()\n",
    "people_max = df_data.groupby('id').max()\n",
    "people_min = df_data.groupby('id').min()"
   ]
  },
  {
   "cell_type": "code",
   "execution_count": null,
   "metadata": {},
   "outputs": [],
   "source": [
    "people = pd.DataFrame()"
   ]
  },
  {
   "cell_type": "code",
   "execution_count": null,
   "metadata": {},
   "outputs": [],
   "source": [
    "people['minV'] = people_min['vel']\n",
    "people['maxV'] = people_max['vel']\n",
    "people['meanV'] = people_mean['vel']\n",
    "people['minD'] = people_mean['minD']"
   ]
  },
  {
   "cell_type": "markdown",
   "metadata": {},
   "source": [
    "### clustering\n",
    "クラスタリング"
   ]
  },
  {
   "cell_type": "code",
   "execution_count": null,
   "metadata": {},
   "outputs": [],
   "source": [
    "remove_n = 58000 #167459.000000/2\n",
    "drop_indices = np.random.choice(people.index, remove_n, replace=False)\n",
    "people_subset = people.drop(drop_indices)"
   ]
  },
  {
   "cell_type": "code",
   "execution_count": null,
   "metadata": {},
   "outputs": [],
   "source": [
    "people_subset.describe()"
   ]
  },
  {
   "cell_type": "code",
   "execution_count": null,
   "metadata": {},
   "outputs": [],
   "source": [
    "from sklearn.decomposition import PCA\n",
    "import pylab as pl\n",
    "from sklearn import mixture"
   ]
  },
  {
   "cell_type": "code",
   "execution_count": null,
   "metadata": {},
   "outputs": [],
   "source": [
    "# pca = PCA(n_components=2)\n",
    "# pca.fit(people_subset)\n",
    "# X_reduced = pca.transform(people_subset)\n",
    "\n",
    "fig = plt.figure(figsize=(13,7))\n",
    "pl.scatter(people_subset['meanV'], people_subset['minD']);"
   ]
  },
  {
   "cell_type": "code",
   "execution_count": null,
   "metadata": {},
   "outputs": [],
   "source": [
    "from sklearn.cluster import KMeans\n",
    "k_means = KMeans(n_clusters=5, random_state=0) # Fixing the RNG in kmeans\n",
    "k_means.fit(people_subset)\n",
    "y_pred_k = k_means.predict(people_subset)\n",
    "\n",
    "fig = plt.figure(figsize=(13,7))\n",
    "plt.scatter(people_subset['meanV'], people_subset['minD'], c=y_pred_k)"
   ]
  },
  {
   "cell_type": "code",
   "execution_count": null,
   "metadata": {},
   "outputs": [],
   "source": [
    "people_subset.describe()"
   ]
  }
 ],
 "metadata": {
  "kernelspec": {
   "display_name": "Python 3",
   "language": "python",
   "name": "python3"
  },
  "language_info": {
   "codemirror_mode": {
    "name": "ipython",
    "version": 3
   },
   "file_extension": ".py",
   "mimetype": "text/x-python",
   "name": "python",
   "nbconvert_exporter": "python",
   "pygments_lexer": "ipython3",
   "version": "3.6.4"
  }
 },
 "nbformat": 4,
 "nbformat_minor": 2
}
